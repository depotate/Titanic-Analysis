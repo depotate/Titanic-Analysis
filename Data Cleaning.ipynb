{
 "cells": [
  {
   "cell_type": "code",
   "execution_count": 87,
   "id": "1c35e3d5",
   "metadata": {},
   "outputs": [],
   "source": [
    "import numpy as np\n",
    "import pandas as pd\n",
    "import seaborn as sb\n",
    "import matplotlib.pyplot as plt\n",
    "from sklearn.model_selection import train_test_split\n",
    "import re\n",
    "sb.set() # set the default Seaborn style for graphics"
   ]
  },
  {
   "cell_type": "markdown",
   "id": "70e08eba",
   "metadata": {},
   "source": [
    "# Importing Data"
   ]
  },
  {
   "cell_type": "code",
   "execution_count": 74,
   "id": "4467868e",
   "metadata": {},
   "outputs": [
    {
     "name": "stdout",
     "output_type": "stream",
     "text": [
      "<class 'pandas.core.frame.DataFrame'>\n",
      "RangeIndex: 891 entries, 0 to 890\n",
      "Data columns (total 12 columns):\n",
      " #   Column       Non-Null Count  Dtype  \n",
      "---  ------       --------------  -----  \n",
      " 0   PassengerId  891 non-null    int64  \n",
      " 1   Survived     891 non-null    int64  \n",
      " 2   Pclass       891 non-null    int64  \n",
      " 3   Name         891 non-null    object \n",
      " 4   Sex          891 non-null    object \n",
      " 5   Age          714 non-null    float64\n",
      " 6   SibSp        891 non-null    int64  \n",
      " 7   Parch        891 non-null    int64  \n",
      " 8   Ticket       891 non-null    object \n",
      " 9   Fare         891 non-null    float64\n",
      " 10  Cabin        204 non-null    object \n",
      " 11  Embarked     889 non-null    object \n",
      "dtypes: float64(2), int64(5), object(5)\n",
      "memory usage: 83.7+ KB\n"
     ]
    },
    {
     "data": {
      "text/html": [
       "<div>\n",
       "<style scoped>\n",
       "    .dataframe tbody tr th:only-of-type {\n",
       "        vertical-align: middle;\n",
       "    }\n",
       "\n",
       "    .dataframe tbody tr th {\n",
       "        vertical-align: top;\n",
       "    }\n",
       "\n",
       "    .dataframe thead th {\n",
       "        text-align: right;\n",
       "    }\n",
       "</style>\n",
       "<table border=\"1\" class=\"dataframe\">\n",
       "  <thead>\n",
       "    <tr style=\"text-align: right;\">\n",
       "      <th></th>\n",
       "      <th>PassengerId</th>\n",
       "      <th>Survived</th>\n",
       "      <th>Pclass</th>\n",
       "      <th>Name</th>\n",
       "      <th>Sex</th>\n",
       "      <th>Age</th>\n",
       "      <th>SibSp</th>\n",
       "      <th>Parch</th>\n",
       "      <th>Ticket</th>\n",
       "      <th>Fare</th>\n",
       "      <th>Cabin</th>\n",
       "      <th>Embarked</th>\n",
       "    </tr>\n",
       "  </thead>\n",
       "  <tbody>\n",
       "    <tr>\n",
       "      <th>0</th>\n",
       "      <td>1</td>\n",
       "      <td>0</td>\n",
       "      <td>3</td>\n",
       "      <td>Braund, Mr. Owen Harris</td>\n",
       "      <td>male</td>\n",
       "      <td>22.0</td>\n",
       "      <td>1</td>\n",
       "      <td>0</td>\n",
       "      <td>A/5 21171</td>\n",
       "      <td>7.2500</td>\n",
       "      <td>NaN</td>\n",
       "      <td>S</td>\n",
       "    </tr>\n",
       "    <tr>\n",
       "      <th>1</th>\n",
       "      <td>2</td>\n",
       "      <td>1</td>\n",
       "      <td>1</td>\n",
       "      <td>Cumings, Mrs. John Bradley (Florence Briggs Th...</td>\n",
       "      <td>female</td>\n",
       "      <td>38.0</td>\n",
       "      <td>1</td>\n",
       "      <td>0</td>\n",
       "      <td>PC 17599</td>\n",
       "      <td>71.2833</td>\n",
       "      <td>C85</td>\n",
       "      <td>C</td>\n",
       "    </tr>\n",
       "    <tr>\n",
       "      <th>2</th>\n",
       "      <td>3</td>\n",
       "      <td>1</td>\n",
       "      <td>3</td>\n",
       "      <td>Heikkinen, Miss. Laina</td>\n",
       "      <td>female</td>\n",
       "      <td>26.0</td>\n",
       "      <td>0</td>\n",
       "      <td>0</td>\n",
       "      <td>STON/O2. 3101282</td>\n",
       "      <td>7.9250</td>\n",
       "      <td>NaN</td>\n",
       "      <td>S</td>\n",
       "    </tr>\n",
       "    <tr>\n",
       "      <th>3</th>\n",
       "      <td>4</td>\n",
       "      <td>1</td>\n",
       "      <td>1</td>\n",
       "      <td>Futrelle, Mrs. Jacques Heath (Lily May Peel)</td>\n",
       "      <td>female</td>\n",
       "      <td>35.0</td>\n",
       "      <td>1</td>\n",
       "      <td>0</td>\n",
       "      <td>113803</td>\n",
       "      <td>53.1000</td>\n",
       "      <td>C123</td>\n",
       "      <td>S</td>\n",
       "    </tr>\n",
       "    <tr>\n",
       "      <th>4</th>\n",
       "      <td>5</td>\n",
       "      <td>0</td>\n",
       "      <td>3</td>\n",
       "      <td>Allen, Mr. William Henry</td>\n",
       "      <td>male</td>\n",
       "      <td>35.0</td>\n",
       "      <td>0</td>\n",
       "      <td>0</td>\n",
       "      <td>373450</td>\n",
       "      <td>8.0500</td>\n",
       "      <td>NaN</td>\n",
       "      <td>S</td>\n",
       "    </tr>\n",
       "  </tbody>\n",
       "</table>\n",
       "</div>"
      ],
      "text/plain": [
       "   PassengerId  Survived  Pclass  \\\n",
       "0            1         0       3   \n",
       "1            2         1       1   \n",
       "2            3         1       3   \n",
       "3            4         1       1   \n",
       "4            5         0       3   \n",
       "\n",
       "                                                Name     Sex   Age  SibSp  \\\n",
       "0                            Braund, Mr. Owen Harris    male  22.0      1   \n",
       "1  Cumings, Mrs. John Bradley (Florence Briggs Th...  female  38.0      1   \n",
       "2                             Heikkinen, Miss. Laina  female  26.0      0   \n",
       "3       Futrelle, Mrs. Jacques Heath (Lily May Peel)  female  35.0      1   \n",
       "4                           Allen, Mr. William Henry    male  35.0      0   \n",
       "\n",
       "   Parch            Ticket     Fare Cabin Embarked  \n",
       "0      0         A/5 21171   7.2500   NaN        S  \n",
       "1      0          PC 17599  71.2833   C85        C  \n",
       "2      0  STON/O2. 3101282   7.9250   NaN        S  \n",
       "3      0            113803  53.1000  C123        S  \n",
       "4      0            373450   8.0500   NaN        S  "
      ]
     },
     "execution_count": 74,
     "metadata": {},
     "output_type": "execute_result"
    }
   ],
   "source": [
    "train_data = pd.read_csv('train.csv')\n",
    "train_data.info()\n",
    "train_data.head()"
   ]
  },
  {
   "cell_type": "markdown",
   "id": "57e5fdc2",
   "metadata": {},
   "source": [
    "# Understanding our data"
   ]
  },
  {
   "cell_type": "code",
   "execution_count": 75,
   "id": "a8a38ab7",
   "metadata": {
    "scrolled": false
   },
   "outputs": [
    {
     "name": "stdout",
     "output_type": "stream",
     "text": [
      "Value Count for: PassengerId\n",
      "1      1\n",
      "599    1\n",
      "588    1\n",
      "589    1\n",
      "590    1\n",
      "      ..\n",
      "301    1\n",
      "302    1\n",
      "303    1\n",
      "304    1\n",
      "891    1\n",
      "Name: PassengerId, Length: 891, dtype: int64\n",
      "---------------------------------------------------\n",
      "Value Count for: Survived\n",
      "0    549\n",
      "1    342\n",
      "Name: Survived, dtype: int64\n",
      "---------------------------------------------------\n",
      "Value Count for: Pclass\n",
      "3    491\n",
      "1    216\n",
      "2    184\n",
      "Name: Pclass, dtype: int64\n",
      "---------------------------------------------------\n",
      "Value Count for: Name\n",
      "Braund, Mr. Owen Harris                     1\n",
      "Boulos, Mr. Hanna                           1\n",
      "Frolicher-Stehli, Mr. Maxmillian            1\n",
      "Gilinski, Mr. Eliezer                       1\n",
      "Murdlin, Mr. Joseph                         1\n",
      "                                           ..\n",
      "Kelly, Miss. Anna Katherine \"Annie Kate\"    1\n",
      "McCoy, Mr. Bernard                          1\n",
      "Johnson, Mr. William Cahoone Jr             1\n",
      "Keane, Miss. Nora A                         1\n",
      "Dooley, Mr. Patrick                         1\n",
      "Name: Name, Length: 891, dtype: int64\n",
      "---------------------------------------------------\n",
      "Value Count for: Sex\n",
      "male      577\n",
      "female    314\n",
      "Name: Sex, dtype: int64\n",
      "---------------------------------------------------\n",
      "Value Count for: Age\n",
      "24.00    30\n",
      "22.00    27\n",
      "18.00    26\n",
      "19.00    25\n",
      "28.00    25\n",
      "         ..\n",
      "36.50     1\n",
      "55.50     1\n",
      "0.92      1\n",
      "23.50     1\n",
      "74.00     1\n",
      "Name: Age, Length: 88, dtype: int64\n",
      "---------------------------------------------------\n",
      "Value Count for: SibSp\n",
      "0    608\n",
      "1    209\n",
      "2     28\n",
      "4     18\n",
      "3     16\n",
      "8      7\n",
      "5      5\n",
      "Name: SibSp, dtype: int64\n",
      "---------------------------------------------------\n",
      "Value Count for: Parch\n",
      "0    678\n",
      "1    118\n",
      "2     80\n",
      "5      5\n",
      "3      5\n",
      "4      4\n",
      "6      1\n",
      "Name: Parch, dtype: int64\n",
      "---------------------------------------------------\n",
      "Value Count for: Ticket\n",
      "347082      7\n",
      "CA. 2343    7\n",
      "1601        7\n",
      "3101295     6\n",
      "CA 2144     6\n",
      "           ..\n",
      "9234        1\n",
      "19988       1\n",
      "2693        1\n",
      "PC 17612    1\n",
      "370376      1\n",
      "Name: Ticket, Length: 681, dtype: int64\n",
      "---------------------------------------------------\n",
      "Value Count for: Fare\n",
      "8.0500     43\n",
      "13.0000    42\n",
      "7.8958     38\n",
      "7.7500     34\n",
      "26.0000    31\n",
      "           ..\n",
      "35.0000     1\n",
      "28.5000     1\n",
      "6.2375      1\n",
      "14.0000     1\n",
      "10.5167     1\n",
      "Name: Fare, Length: 248, dtype: int64\n",
      "---------------------------------------------------\n",
      "Value Count for: Cabin\n",
      "B96 B98        4\n",
      "G6             4\n",
      "C23 C25 C27    4\n",
      "C22 C26        3\n",
      "F33            3\n",
      "              ..\n",
      "E34            1\n",
      "C7             1\n",
      "C54            1\n",
      "E36            1\n",
      "C148           1\n",
      "Name: Cabin, Length: 147, dtype: int64\n",
      "---------------------------------------------------\n",
      "Value Count for: Embarked\n",
      "S    644\n",
      "C    168\n",
      "Q     77\n",
      "Name: Embarked, dtype: int64\n",
      "---------------------------------------------------\n"
     ]
    }
   ],
   "source": [
    "for var in train_data:\n",
    "    print(\"Value Count for:\", var)\n",
    "    print(train_data[var].value_counts())\n",
    "    print(\"---------------------------------------------------\")"
   ]
  },
  {
   "cell_type": "markdown",
   "id": "d0c7d6ab",
   "metadata": {},
   "source": [
    "### **Categories to note:**\n",
    "\n",
    "From the value count, we can identify some categorical variables that would be important for our models\n",
    "\n",
    "---\n",
    "\n",
    "- Sex\n",
    "> Male: 577\\\n",
    "> Female: 314\n",
    "\n",
    "- Sibsp\n",
    "> 0: 608\\\n",
    "> 1: 209\\\n",
    "> 2: 28\\\n",
    "> 3: 16\\\n",
    "> 4: 18\\\n",
    "> 5: 5\\\n",
    "> 8: 7\n",
    "\n",
    "- Parch\n",
    "> 0: 678\\\n",
    "> 1: 118\\\n",
    "> 2: 80\\\n",
    "> 3: 5\\\n",
    "> 4: 4\\\n",
    "> 5: 5\\\n",
    "> 6: 1\n",
    "\n",
    "- Pclass\n",
    "> 1: 216\\\n",
    "> 2: 184\\\n",
    "> 3: 491\n",
    "\n",
    "- Embarked\n",
    "> S: 644\\\n",
    "> C: 168\\\n",
    "> Q: 77\n",
    "\n",
    "- Survived\n",
    "> 1: 342\\\n",
    "> 0: 549"
   ]
  },
  {
   "cell_type": "markdown",
   "id": "688348ca",
   "metadata": {},
   "source": [
    "# Data Cleaning"
   ]
  },
  {
   "cell_type": "markdown",
   "id": "0f9683b2",
   "metadata": {},
   "source": [
    "## Missing values\n",
    "\n",
    "Missing values reduce the data quality and thus, they must be handled. On encountering missing values, we have two main options:\n",
    "\n",
    "1. We can drop the column with missing values. This is usually used when there are too many missing values to be filled.\n",
    "<br>\n",
    "<br>\n",
    "2. Filling in the missing values using measures such as mean and median."
   ]
  },
  {
   "cell_type": "code",
   "execution_count": 76,
   "id": "aa449c61",
   "metadata": {},
   "outputs": [
    {
     "data": {
      "text/plain": [
       "PassengerId      0\n",
       "Survived         0\n",
       "Pclass           0\n",
       "Name             0\n",
       "Sex              0\n",
       "Age            177\n",
       "SibSp            0\n",
       "Parch            0\n",
       "Ticket           0\n",
       "Fare             0\n",
       "Cabin          687\n",
       "Embarked         2\n",
       "dtype: int64"
      ]
     },
     "execution_count": 76,
     "metadata": {},
     "output_type": "execute_result"
    }
   ],
   "source": [
    "# checking for missing values in training data\n",
    "train_data.isnull().sum()"
   ]
  },
  {
   "cell_type": "markdown",
   "id": "960f5b85",
   "metadata": {},
   "source": [
    "## Age\n",
    "<br>\n",
    "As we can see Age column has a lot of missing values in the data, thus it must be handled."
   ]
  },
  {
   "cell_type": "code",
   "execution_count": 77,
   "id": "2847bb3a",
   "metadata": {},
   "outputs": [
    {
     "data": {
      "image/png": "[encoded data removed]",
      "text/plain": [
       "<Figure size 640x480 with 1 Axes>"
      ]
     },
     "metadata": {},
     "output_type": "display_data"
    }
   ],
   "source": [
    "ax = train_data['Age'].hist(bins=15, density=True, stacked=True, alpha=0.7)\n",
    "\n",
    "train_data['Age'].plot(kind='density')\n",
    "\n",
    "ax.set(xlabel='Age')\n",
    "plt.xlim(0, 90)\n",
    "plt.grid()\n",
    "plt.show()"
   ]
  },
  {
   "cell_type": "markdown",
   "id": "a965047d",
   "metadata": {},
   "source": [
    "#### The above density plot and histogram indicate a positive skew since the graph is skewed towards the right. Thus, using median to fill in missing values will be better."
   ]
  },
  {
   "cell_type": "code",
   "execution_count": 78,
   "id": "56cadd14",
   "metadata": {},
   "outputs": [
    {
     "name": "stdout",
     "output_type": "stream",
     "text": [
      "Mean:    29.69911764705882\n",
      "Median:  28.0\n"
     ]
    }
   ],
   "source": [
    "#Mean of the 'Age' column\n",
    "print(\"Mean:   \", train_data[\"Age\"].mean(skipna=True)) #skipna helps skip the missing data\n",
    "#Median of the 'Age' column\n",
    "print(\"Median: \", train_data[\"Age\"].median())"
   ]
  },
  {
   "cell_type": "markdown",
   "id": "0fcd00a9",
   "metadata": {},
   "source": [
    "## Cabin\n",
    "<br>\n",
    "The missing values under 'Cabin' must be handled too."
   ]
  },
  {
   "cell_type": "code",
   "execution_count": 79,
   "id": "79f19950",
   "metadata": {},
   "outputs": [
    {
     "data": {
      "text/plain": [
       "77.10437710437711"
      ]
     },
     "execution_count": 79,
     "metadata": {},
     "output_type": "execute_result"
    }
   ],
   "source": [
    "#Percentage of the missing values on the 'Cabin' column\n",
    "train_data[\"Cabin\"].isnull().sum()/train_data.shape[0]*100"
   ]
  },
  {
   "cell_type": "markdown",
   "id": "3771f72c",
   "metadata": {},
   "source": [
    "##### Approximately, 77% of the data in the Cabin column is missing.\n",
    "The percentage is too high to be handled thus, we should drop this column."
   ]
  },
  {
   "cell_type": "markdown",
   "id": "6c7e2c25",
   "metadata": {},
   "source": [
    "## Embarked\n",
    "<br>\n",
    "Embarked is a categorical variable that tells us where the passengers boarded the ship"
   ]
  },
  {
   "cell_type": "code",
   "execution_count": 80,
   "id": "5c8adfad",
   "metadata": {},
   "outputs": [
    {
     "data": {
      "text/plain": [
       "0.22446689113355783"
      ]
     },
     "execution_count": 80,
     "metadata": {},
     "output_type": "execute_result"
    }
   ],
   "source": [
    "#Percentage of the missing values on 'Embarked' columns\n",
    "train_data[\"Embarked\"].isnull().sum()/train_data.shape[0]*100"
   ]
  },
  {
   "cell_type": "markdown",
   "id": "28abccfb",
   "metadata": {},
   "source": [
    "#### Since the percentage of missing values is only 0.22%, we can handle these."
   ]
  },
  {
   "cell_type": "code",
   "execution_count": 81,
   "id": "3905dca3",
   "metadata": {
    "scrolled": false
   },
   "outputs": [
    {
     "name": "stdout",
     "output_type": "stream",
     "text": [
      "Places where passengers embarked :(C = Cherbourg, Q = Queenstown, S = Southampton)\n"
     ]
    },
    {
     "data": {
      "text/plain": [
       "S    644\n",
       "C    168\n",
       "Q     77\n",
       "Name: Embarked, dtype: int64"
      ]
     },
     "execution_count": 81,
     "metadata": {},
     "output_type": "execute_result"
    },
    {
     "data": {
      "image/png": "[encoded data removed]",
      "text/plain": [
       "<Figure size 640x480 with 1 Axes>"
      ]
     },
     "metadata": {},
     "output_type": "display_data"
    }
   ],
   "source": [
    "# looking at where the passengers get in.\n",
    "sb.countplot(data=train_data,x=train_data[\"Embarked\"])\n",
    "#Exact number of passengers embarking at different places\n",
    "print(\"Places where passengers embarked :(C = Cherbourg, Q = Queenstown, S = Southampton)\")\n",
    "train_data[\"Embarked\"].value_counts()"
   ]
  },
  {
   "cell_type": "markdown",
   "id": "bba9e4cf",
   "metadata": {},
   "source": [
    "#### As we can see from the above analysis, maximum passengers embarked at Southampton(S). \n",
    "\n",
    "Since the 'Embark' column is a categorical variable, we cannot fill in the missing values using mean or median as these are calculated for numeeical values.\n",
    "\n",
    "We can use the **mode** instead.\n",
    "\n",
    "Thus, based on the analysis, as maximum passengers embarked at Southampton by a huge margin, our best bet would be to fill the missing values with S(Southampton)"
   ]
  },
  {
   "cell_type": "markdown",
   "id": "f5b9b152",
   "metadata": {},
   "source": [
    "##### Filling in missing values for training data"
   ]
  },
  {
   "cell_type": "code",
   "execution_count": 82,
   "id": "49bdea70",
   "metadata": {},
   "outputs": [
    {
     "data": {
      "text/plain": [
       "PassengerId    0\n",
       "Survived       0\n",
       "Pclass         0\n",
       "Name           0\n",
       "Sex            0\n",
       "Age            0\n",
       "SibSp          0\n",
       "Parch          0\n",
       "Ticket         0\n",
       "Fare           0\n",
       "Embarked       0\n",
       "dtype: int64"
      ]
     },
     "execution_count": 82,
     "metadata": {},
     "output_type": "execute_result"
    }
   ],
   "source": [
    "#Age\n",
    "train_data[\"Age\"].fillna(train_data[\"Age\"].median(skipna=True), inplace=True)\n",
    "#Embarked\n",
    "train_data[\"Embarked\"].fillna(train_data['Embarked'].value_counts().idxmax(), inplace=True)\n",
    "#Cabin\n",
    "train_data.drop('Cabin', axis=1, inplace=True)\n",
    "train_data.isnull().sum()"
   ]
  },
  {
   "cell_type": "markdown",
   "id": "33c63493",
   "metadata": {},
   "source": [
    "# Data adjustments"
   ]
  },
  {
   "cell_type": "markdown",
   "id": "bbf3b05e",
   "metadata": {},
   "source": [
    "### Number of Family Members\n",
    "\n",
    "We can combine Sibsp and Parch into a single variable, **'FamilyMembers'**"
   ]
  },
  {
   "cell_type": "code",
   "execution_count": 84,
   "id": "2a4d4223",
   "metadata": {},
   "outputs": [],
   "source": [
    "train_data['FamilyMembers'] = train_data['SibSp'] + train_data['Parch']\n",
    "train_data.drop([\"SibSp\", \"Parch\"], axis = 1, inplace=True)"
   ]
  },
  {
   "cell_type": "markdown",
   "id": "ca2a2854",
   "metadata": {},
   "source": [
    "### Title of individuals\n",
    "\n",
    "We can identify the titles of each individual in the \"Names\" column, which can help us further categorise the individuals, rather than dealing with each individual unique name."
   ]
  },
  {
   "cell_type": "code",
   "execution_count": 88,
   "id": "cff5ba37",
   "metadata": {},
   "outputs": [
    {
     "data": {
      "image/png": "[encoded data removed]",
      "text/plain": [
       "<Figure size 1300x500 with 1 Axes>"
      ]
     },
     "metadata": {},
     "output_type": "display_data"
    }
   ],
   "source": [
    "train_data['Title'] = train_data.Name.apply(lambda x: re.search(' ([A-Z][a-z]+)\\.', x).group(1))\n",
    "plt.figure(figsize=(13,5))\n",
    "sb.countplot(data=train_data, x='Title')\n",
    "plt.xlabel(\"Title\", fontsize=13) #seting the xtitle and size\n",
    "plt.ylabel(\"Count\", fontsize=13) # Seting the ytitle and size\n",
    "plt.title(\"Title Count\", fontsize=15)\n",
    "plt.xticks(rotation=30)\n",
    "plt.show()"
   ]
  },
  {
   "cell_type": "markdown",
   "id": "23f7666f",
   "metadata": {},
   "source": [
    "#### In order to use the 'Titles' to give us a better insight, we decided to further categorise some of the titles based on the social status of their title, whenever possible."
   ]
  },
  {
   "cell_type": "code",
   "execution_count": 89,
   "id": "96b9a526",
   "metadata": {},
   "outputs": [
    {
     "data": {
      "image/png": "[encoded data removed]",
      "text/plain": [
       "<Figure size 1300x500 with 1 Axes>"
      ]
     },
     "metadata": {},
     "output_type": "display_data"
    }
   ],
   "source": [
    "train_data['Title'] = train_data['Title'].replace(['Capt', 'Col', 'Dr', 'Major', 'Rev', 'Jonkheer', 'Dona'], 'Officer')  \n",
    "train_data['Title'] = train_data['Title'].replace(['Jonkheer', 'Dona', 'Don', 'Countess', 'Lady', 'Sir'], 'Royalty')\n",
    "train_data['Title'] = train_data['Title'].replace('Ms', 'Miss')\n",
    "train_data['Title'] = train_data['Title'].replace('Mlle', 'Miss')\n",
    "train_data['Title'] = train_data['Title'].replace('Mme', 'Mrs')\n",
    "\n",
    "plt.figure(figsize=(13,5))\n",
    "sb.countplot(data=train_data, x='Title', palette=\"hls\", hue=\"Survived\")\n",
    "plt.xlabel(\"Title\", fontsize=13) #seting the xtitle and size\n",
    "plt.ylabel(\"Count\", fontsize=13) # Seting the ytitle and size\n",
    "plt.title(\"Title Count\", fontsize=15)\n",
    "plt.show()"
   ]
  },
  {
   "cell_type": "code",
   "execution_count": 93,
   "id": "6cab4e06",
   "metadata": {},
   "outputs": [
    {
     "name": "stdout",
     "output_type": "stream",
     "text": [
      "Titles Categories:  ['Mr' 'Mrs' 'Miss' 'Master' 'Royalty' 'Officer']\n"
     ]
    }
   ],
   "source": [
    "print(\"Titles Categories: \",train_data['Title'].unique())"
   ]
  },
  {
   "cell_type": "markdown",
   "id": "745a7772",
   "metadata": {},
   "source": [
    "### Age Categories\n",
    "\n",
    "\n",
    "We can also try grouping age into bins."
   ]
  },
  {
   "cell_type": "code",
   "execution_count": 97,
   "id": "aa13755b",
   "metadata": {},
   "outputs": [
    {
     "data": {
      "text/plain": [
       "Text(0.5, 1.0, 'Title Count')"
      ]
     },
     "execution_count": 97,
     "metadata": {},
     "output_type": "execute_result"
    },
    {
     "data": {
      "image/png": "[encoded data removed]",
      "text/plain": [
       "<Figure size 1300x500 with 1 Axes>"
      ]
     },
     "metadata": {},
     "output_type": "display_data"
    }
   ],
   "source": [
    "bins = [-1, 12, 25, 35, 60, 100]\n",
    "labels = ['Child', 'Teenager', 'Youngadult', 'Adult', 'Elderly']\n",
    "train_data['AgeCategory'] = pd.cut(train_data[\"Age\"], bins, labels = labels).astype('object')\n",
    "\n",
    "plt.figure(figsize=(13,5))\n",
    "sb.countplot(data=train_data, x='AgeCategory', palette=\"hls\", hue=\"Survived\")\n",
    "plt.xlabel(\"AgeCategory\", fontsize=13) #seting the xtitle and size\n",
    "plt.ylabel(\"Count\", fontsize=13) # Seting the ytitle and size\n",
    "plt.title(\"Title Count\", fontsize=15)"
   ]
  },
  {
   "cell_type": "code",
   "execution_count": 99,
   "id": "6d96e409",
   "metadata": {},
   "outputs": [
    {
     "name": "stdout",
     "output_type": "stream",
     "text": [
      "AgeCategory:  ['Teenager' 'Adult' 'Youngadult' 'Child' 'Elderly']\n"
     ]
    }
   ],
   "source": [
    "print(\"AgeCategory: \",train_data['AgeCategory'].unique())"
   ]
  },
  {
   "cell_type": "code",
   "execution_count": 102,
   "id": "42a37425",
   "metadata": {},
   "outputs": [
    {
     "data": {
      "text/html": [
       "<div>\n",
       "<style scoped>\n",
       "    .dataframe tbody tr th:only-of-type {\n",
       "        vertical-align: middle;\n",
       "    }\n",
       "\n",
       "    .dataframe tbody tr th {\n",
       "        vertical-align: top;\n",
       "    }\n",
       "\n",
       "    .dataframe thead th {\n",
       "        text-align: right;\n",
       "    }\n",
       "</style>\n",
       "<table border=\"1\" class=\"dataframe\">\n",
       "  <thead>\n",
       "    <tr style=\"text-align: right;\">\n",
       "      <th></th>\n",
       "      <th>PassengerId</th>\n",
       "      <th>Survived</th>\n",
       "      <th>Pclass</th>\n",
       "      <th>Name</th>\n",
       "      <th>Sex</th>\n",
       "      <th>Age</th>\n",
       "      <th>Ticket</th>\n",
       "      <th>Fare</th>\n",
       "      <th>Embarked</th>\n",
       "      <th>FamilyMembers</th>\n",
       "      <th>Title</th>\n",
       "      <th>AgeCategory</th>\n",
       "    </tr>\n",
       "  </thead>\n",
       "  <tbody>\n",
       "    <tr>\n",
       "      <th>0</th>\n",
       "      <td>1</td>\n",
       "      <td>0</td>\n",
       "      <td>3</td>\n",
       "      <td>Braund, Mr. Owen Harris</td>\n",
       "      <td>male</td>\n",
       "      <td>22.0</td>\n",
       "      <td>A/5 21171</td>\n",
       "      <td>7.2500</td>\n",
       "      <td>S</td>\n",
       "      <td>1</td>\n",
       "      <td>Mr</td>\n",
       "      <td>Teenager</td>\n",
       "    </tr>\n",
       "    <tr>\n",
       "      <th>1</th>\n",
       "      <td>2</td>\n",
       "      <td>1</td>\n",
       "      <td>1</td>\n",
       "      <td>Cumings, Mrs. John Bradley (Florence Briggs Th...</td>\n",
       "      <td>female</td>\n",
       "      <td>38.0</td>\n",
       "      <td>PC 17599</td>\n",
       "      <td>71.2833</td>\n",
       "      <td>C</td>\n",
       "      <td>1</td>\n",
       "      <td>Mrs</td>\n",
       "      <td>Adult</td>\n",
       "    </tr>\n",
       "    <tr>\n",
       "      <th>2</th>\n",
       "      <td>3</td>\n",
       "      <td>1</td>\n",
       "      <td>3</td>\n",
       "      <td>Heikkinen, Miss. Laina</td>\n",
       "      <td>female</td>\n",
       "      <td>26.0</td>\n",
       "      <td>STON/O2. 3101282</td>\n",
       "      <td>7.9250</td>\n",
       "      <td>S</td>\n",
       "      <td>0</td>\n",
       "      <td>Miss</td>\n",
       "      <td>Youngadult</td>\n",
       "    </tr>\n",
       "    <tr>\n",
       "      <th>3</th>\n",
       "      <td>4</td>\n",
       "      <td>1</td>\n",
       "      <td>1</td>\n",
       "      <td>Futrelle, Mrs. Jacques Heath (Lily May Peel)</td>\n",
       "      <td>female</td>\n",
       "      <td>35.0</td>\n",
       "      <td>113803</td>\n",
       "      <td>53.1000</td>\n",
       "      <td>S</td>\n",
       "      <td>1</td>\n",
       "      <td>Mrs</td>\n",
       "      <td>Youngadult</td>\n",
       "    </tr>\n",
       "    <tr>\n",
       "      <th>4</th>\n",
       "      <td>5</td>\n",
       "      <td>0</td>\n",
       "      <td>3</td>\n",
       "      <td>Allen, Mr. William Henry</td>\n",
       "      <td>male</td>\n",
       "      <td>35.0</td>\n",
       "      <td>373450</td>\n",
       "      <td>8.0500</td>\n",
       "      <td>S</td>\n",
       "      <td>0</td>\n",
       "      <td>Mr</td>\n",
       "      <td>Youngadult</td>\n",
       "    </tr>\n",
       "  </tbody>\n",
       "</table>\n",
       "</div>"
      ],
      "text/plain": [
       "   PassengerId  Survived  Pclass  \\\n",
       "0            1         0       3   \n",
       "1            2         1       1   \n",
       "2            3         1       3   \n",
       "3            4         1       1   \n",
       "4            5         0       3   \n",
       "\n",
       "                                                Name     Sex   Age  \\\n",
       "0                            Braund, Mr. Owen Harris    male  22.0   \n",
       "1  Cumings, Mrs. John Bradley (Florence Briggs Th...  female  38.0   \n",
       "2                             Heikkinen, Miss. Laina  female  26.0   \n",
       "3       Futrelle, Mrs. Jacques Heath (Lily May Peel)  female  35.0   \n",
       "4                           Allen, Mr. William Henry    male  35.0   \n",
       "\n",
       "             Ticket     Fare Embarked  FamilyMembers Title AgeCategory  \n",
       "0         A/5 21171   7.2500        S              1    Mr    Teenager  \n",
       "1          PC 17599  71.2833        C              1   Mrs       Adult  \n",
       "2  STON/O2. 3101282   7.9250        S              0  Miss  Youngadult  \n",
       "3            113803  53.1000        S              1   Mrs  Youngadult  \n",
       "4            373450   8.0500        S              0    Mr  Youngadult  "
      ]
     },
     "execution_count": 102,
     "metadata": {},
     "output_type": "execute_result"
    }
   ],
   "source": [
    "#Review our data so far\n",
    "train_data.head()"
   ]
  },
  {
   "cell_type": "markdown",
   "id": "fa187a21",
   "metadata": {},
   "source": [
    "# Encoding"
   ]
  },
  {
   "cell_type": "code",
   "execution_count": null,
   "id": "793a79b6",
   "metadata": {},
   "outputs": [],
   "source": []
  }
 ],
 "metadata": {
  "kernelspec": {
   "display_name": "Python 3 (ipykernel)",
   "language": "python",
   "name": "python3"
  },
  "language_info": {
   "codemirror_mode": {
    "name": "ipython",
    "version": 3
   },
   "file_extension": ".py",
   "mimetype": "text/x-python",
   "name": "python",
   "nbconvert_exporter": "python",
   "pygments_lexer": "ipython3",
   "version": "3.9.13"
  }
 },
 "nbformat": 4,
 "nbformat_minor": 5
}
